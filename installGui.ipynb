{
 "cells": [
  {
   "cell_type": "code",
   "execution_count": null,
   "metadata": {},
   "outputs": [],
   "source": [
    "import subprocess\n",
    "import os\n",
    "\n",
    "contentDir = '/home/cheatedepk/xfceGui/content'\n",
    "\n",
    "\n",
    "# Define Function to Run Commands without Printing Output\n",
    "def run_command(command):\n",
    "    print(f\"Running {command}...\")\n",
    "    subprocess.call(command, shell=True, stdout=subprocess.DEVNULL)\n",
    "    print(f\"Completed running {command}.✔\")\n",
    "\n",
    "\n",
    "\n",
    "# Create a directory 'content' if it doesn't exist\n",
    "if not os.path.exists(contentDir):  \n",
    "    os.makedirs(contentDir)\n",
    "\n",
    "# change the pwd to Home\n",
    "os.chdir(contentDir)\n",
    "\n",
    "# Get the current working directory -home\n",
    "home_dir = os.getcwd()\n",
    "\n",
    "\n",
    "# Path to the xstartup file\n",
    "xstartup_path = os.path.expanduser(\"~/.vnc/xstartup\")\n",
    "\n",
    "# Content of the xstartup file\n",
    "xstartup_content = \"\"\"#!/bin/bash\n",
    "xrdb $HOME/.Xresources\n",
    "startxfce4 &\n",
    "autocutsel -fork\n",
    "\"\"\"\n",
    "\n",
    "# Run Commands\n",
    "run_command(\"sudo apt update\")\n",
    "run_command(\"sudo apt upgrade\")\n",
    "run_command(\"sudo apt install nano\")\n",
    "run_command(\"sudo apt --fix-broken install -y\")\n",
    "\n"
   ]
  },
  {
   "cell_type": "code",
   "execution_count": null,
   "metadata": {},
   "outputs": [],
   "source": [
    "# Install xfce4 RUN ON THE TERMINAL\n",
    "sudo apt-get install -y xfce4 xfce4-goodies"
   ]
  },
  {
   "cell_type": "code",
   "execution_count": null,
   "metadata": {},
   "outputs": [],
   "source": [
    "# Install vncserver RUN ON THE TERMINAL\n",
    "\n",
    "sudo apt -y install novnc python3-websockify python3-numpy\n",
    "\n",
    "sudo openssl req -x509 -nodes -newkey rsa:3072 -keyout novnc.pem -out novnc.pem -days 3650 -subj \"/C=US/ST=CA/L=Los Angeles/O=Mozilla/OU=IT/CN=www.mozilla.org\"\n",
    "\n",
    "sudo websockify -D --web=/usr/share/novnc/ --cert=/home/ubuntu/novnc.pem 6080 localhost:5901"
   ]
  },
  {
   "cell_type": "code",
   "execution_count": null,
   "metadata": {},
   "outputs": [],
   "source": [
    "# Check if the xstartup file exists\n",
    "if os.path.exists(xstartup_path):\n",
    "    # If the file exists, replace its content\n",
    "    with open(xstartup_path, \"w\") as file:\n",
    "        file.write(xstartup_content)\n",
    "else:\n",
    "    # If the file does not exist, create it\n",
    "    with open(xstartup_path, \"x\") as file:\n",
    "        file.write(xstartup_content)\n",
    "\n",
    "print(\"xstartup file created/updated successfully.\")\n",
    "\n",
    "\n",
    "!chmod +x ~/.vnc/xstartup\n",
    "\n",
    "# !tightvncserver :1 -geometry 1400x804\n",
    "\n",
    "# !lsof -i :5901\n",
    "\n",
    "# !tightvncserver -kill :1"
   ]
  },
  {
   "cell_type": "code",
   "execution_count": 30,
   "metadata": {},
   "outputs": [],
   "source": [
    "!lsof -i :5901"
   ]
  }
 ],
 "metadata": {
  "kernelspec": {
   "display_name": "Python 3",
   "language": "python",
   "name": "python3"
  },
  "language_info": {
   "codemirror_mode": {
    "name": "ipython",
    "version": 3
   },
   "file_extension": ".py",
   "mimetype": "text/x-python",
   "name": "python",
   "nbconvert_exporter": "python",
   "pygments_lexer": "ipython3",
   "version": "3.10.12"
  }
 },
 "nbformat": 4,
 "nbformat_minor": 2
}
